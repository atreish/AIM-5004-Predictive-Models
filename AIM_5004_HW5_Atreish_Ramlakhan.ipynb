{
 "cells": [
  {
   "cell_type": "raw",
   "metadata": {},
   "source": [
    "Atreish Ramlakhan\n",
    "AIM 5004: Predictive Models\n",
    "Summer 2021\n",
    "HW #5"
   ]
  },
  {
   "cell_type": "code",
   "execution_count": 1,
   "metadata": {},
   "outputs": [
    {
     "name": "stderr",
     "output_type": "stream",
     "text": [
      "/Users/atreish/opt/anaconda3/lib/python3.7/site-packages/statsmodels/tools/_testing.py:19: FutureWarning: pandas.util.testing is deprecated. Use the functions in the public API at pandas.testing instead.\n",
      "  import pandas.util.testing as tm\n"
     ]
    }
   ],
   "source": [
    "import numpy as np\n",
    "import pandas as pd\n",
    "import pandas as pd\n",
    "import matplotlib.pyplot as plt\n",
    "import scipy.stats\n",
    "import statsmodels.api as sm\n",
    "from sklearn.linear_model import LinearRegression\n",
    "from sklearn.metrics import mean_squared_error\n",
    "import statsmodels.api as sm\n",
    "from sklearn.model_selection import cross_val_score\n",
    "from math import log"
   ]
  },
  {
   "cell_type": "markdown",
   "metadata": {},
   "source": [
    "## Data set"
   ]
  },
  {
   "cell_type": "code",
   "execution_count": 2,
   "metadata": {},
   "outputs": [],
   "source": [
    "x1 = np.array([ 0.        ,  3.33333333,  6.66666667, 10.        ,  0.        ,\n",
    "        3.33333333,  6.66666667, 10.        ,  0.        ,  3.33333333,\n",
    "        6.66666667, 10.        ,  0.        ,  3.33333333,  6.66666667,\n",
    "       10.        ])\n",
    "x2 = np.array([0.        , 0.        , 0.        , 0.        , 0.33333333,\n",
    "       0.33333333, 0.33333333, 0.33333333, 0.66666667, 0.66666667,\n",
    "       0.66666667, 0.66666667, 1.        , 1.        , 1.        ,\n",
    "       1.        ])\n",
    "y = np.array([ 1.22353179,  3.57574634,  5.89217837,  8.19889324,  1.96307308,\n",
    "        4.57556858,  7.48364786,  9.2400334 ,  2.9048125 ,  5.74174653,\n",
    "        8.19832673, 10.69424417,  4.15380028,  7.12275093,  8.8976015 ,\n",
    "       11.76820779])"
   ]
  },
  {
   "cell_type": "markdown",
   "metadata": {},
   "source": [
    "# 1.A"
   ]
  },
  {
   "cell_type": "markdown",
   "metadata": {},
   "source": [
    "`Run a linear regression to find A, B1, and B2.`"
   ]
  },
  {
   "cell_type": "code",
   "execution_count": 3,
   "metadata": {},
   "outputs": [
    {
     "data": {
      "text/plain": [
       "array([[ 0.        ,  0.        ],\n",
       "       [ 3.33333333,  0.        ],\n",
       "       [ 6.66666667,  0.        ],\n",
       "       [10.        ,  0.        ],\n",
       "       [ 0.        ,  0.33333333],\n",
       "       [ 3.33333333,  0.33333333],\n",
       "       [ 6.66666667,  0.33333333],\n",
       "       [10.        ,  0.33333333],\n",
       "       [ 0.        ,  0.66666667],\n",
       "       [ 3.33333333,  0.66666667],\n",
       "       [ 6.66666667,  0.66666667],\n",
       "       [10.        ,  0.66666667],\n",
       "       [ 0.        ,  1.        ],\n",
       "       [ 3.33333333,  1.        ],\n",
       "       [ 6.66666667,  1.        ],\n",
       "       [10.        ,  1.        ]])"
      ]
     },
     "execution_count": 3,
     "metadata": {},
     "output_type": "execute_result"
    }
   ],
   "source": [
    "dataframe = pd.DataFrame()\n",
    "dataframe['x1'] = x1\n",
    "dataframe['x2'] = x2\n",
    "dataframe['y']  = y\n",
    "X = np.array(dataframe[['x1','x2']])\n",
    "X"
   ]
  },
  {
   "cell_type": "code",
   "execution_count": 4,
   "metadata": {},
   "outputs": [
    {
     "name": "stdout",
     "output_type": "stream",
     "text": [
      "The Intercept A = 1.0324877889494903\n",
      "\n",
      "The Coefficients B1, B2 = 0.738183186821566 , 3.2574629401353596\n"
     ]
    }
   ],
   "source": [
    "Reg1 = LinearRegression().fit(X, y) \n",
    "coefs = Reg1.coef_\n",
    "intercept = Reg1.intercept_\n",
    "print('The Intercept A = {}'.format(intercept))\n",
    "print('\\nThe Coefficients B1, B2 = {} , {}'.format(coefs[0],coefs[1]))"
   ]
  },
  {
   "cell_type": "markdown",
   "metadata": {},
   "source": [
    "# 1.B"
   ]
  },
  {
   "cell_type": "markdown",
   "metadata": {},
   "source": [
    "`Calculate SE(B1) and SE(B2)`"
   ]
  },
  {
   "cell_type": "code",
   "execution_count": 5,
   "metadata": {},
   "outputs": [
    {
     "data": {
      "text/plain": [
       "array([17.41327718,  9.12262146])"
      ]
     },
     "execution_count": 5,
     "metadata": {},
     "output_type": "execute_result"
    }
   ],
   "source": [
    "x = np.array(X)\n",
    "x3 = (x - x.mean())**2\n",
    "x4 = sum(x3)\n",
    "x5 = np.sqrt(x4)\n",
    "x5"
   ]
  },
  {
   "cell_type": "code",
   "execution_count": 6,
   "metadata": {},
   "outputs": [
    {
     "name": "stdout",
     "output_type": "stream",
     "text": [
      "Standard Error of B1 = 0.013883328050068445\n",
      "Standard Error of B2 = 0.02650052298514973\n"
     ]
    }
   ],
   "source": [
    "k = X.shape[1]\n",
    "n = X.shape[0]\n",
    "y_hat = Reg1.predict(X)\n",
    "Errors = y - y_hat\n",
    "SSE = sum(Errors**2)\n",
    "SE = np.sqrt(SSE/(n-k-1))\n",
    "SE_coefs = SE / x5\n",
    "print('Standard Error of B1 = {}'.format(SE_coefs[0]))\n",
    "print('Standard Error of B2 = {}'.format(SE_coefs[1]))"
   ]
  },
  {
   "cell_type": "markdown",
   "metadata": {},
   "source": [
    "# 1.C"
   ]
  },
  {
   "cell_type": "markdown",
   "metadata": {},
   "source": [
    "`Calculate a prediction, y_hat, at x1=5, x2=.5 along with $SE(yhat) = \\sqrt{RSS/(n-k-1)} / \\sqrt{n}$`"
   ]
  },
  {
   "cell_type": "code",
   "execution_count": 7,
   "metadata": {},
   "outputs": [
    {
     "name": "stdout",
     "output_type": "stream",
     "text": [
      "Y_hat at x1=5 and x2=0.5 is = [6.35213519]\n"
     ]
    }
   ],
   "source": [
    "Y_hat1 = Reg1.predict(np.array([[5,0.5]]))\n",
    "print('Y_hat at x1=5 and x2=0.5 is = {}'.format(Y_hat1))"
   ]
  },
  {
   "cell_type": "code",
   "execution_count": 8,
   "metadata": {},
   "outputs": [
    {
     "name": "stdout",
     "output_type": "stream",
     "text": [
      "The Standard Error of our Y_hat calculation is = 0.8361772658727425\n"
     ]
    }
   ],
   "source": [
    "RSS = sum((y - Y_hat1)**2)\n",
    "SE_yhat = (np.sqrt(RSS/(n-k-1)))/np.sqrt(n)\n",
    "print('The Standard Error of our Y_hat calculation is = {}'.format(SE_yhat))"
   ]
  },
  {
   "cell_type": "markdown",
   "metadata": {},
   "source": [
    "# 2.A"
   ]
  },
  {
   "cell_type": "markdown",
   "metadata": {},
   "source": [
    "`Calculate m=100 bootstrap sample sets from the original set of 16 samples and, for each bootstrap sample set, estimate A_bs, B1_bs, and B2_bs by regression. (You'll have 100 estimates of each of A_bs, B1_bs, and B2_bs.`"
   ]
  },
  {
   "cell_type": "code",
   "execution_count": 9,
   "metadata": {},
   "outputs": [
    {
     "data": {
      "text/plain": [
       "16"
      ]
     },
     "execution_count": 9,
     "metadata": {},
     "output_type": "execute_result"
    }
   ],
   "source": [
    "len(x)"
   ]
  },
  {
   "cell_type": "code",
   "execution_count": 10,
   "metadata": {},
   "outputs": [],
   "source": [
    "def bootstrap(x, y):\n",
    "    i = np.random.randint(0, 16, size=16)\n",
    "    return x[i], y[i]\n",
    "\n",
    "m = 100\n",
    "A_bs = []\n",
    "B1_bs = []\n",
    "B2_bs = []\n",
    "bootstrap_x1 = []\n",
    "bootstrap_y1 = []\n",
    "all_bs = []\n",
    "\n",
    "for _ in range(m):     \n",
    "    bootstrap_x, bootstrap_y = bootstrap(x, y)\n",
    "    Reg2 = LinearRegression().fit(bootstrap_x, bootstrap_y)\n",
    "    A_bs.append(Reg2.intercept_)\n",
    "    B1_bs.append(Reg2.coef_[0])\n",
    "    B2_bs.append(Reg2.coef_[1])\n",
    "    bootstrap_x1.append(bootstrap_x)\n",
    "    bootstrap_y1.append(bootstrap_y)\n",
    "    all_bs.append(Reg2)"
   ]
  },
  {
   "cell_type": "code",
   "execution_count": 11,
   "metadata": {},
   "outputs": [
    {
     "name": "stdout",
     "output_type": "stream",
     "text": [
      "100\n",
      "100\n",
      "100\n"
     ]
    }
   ],
   "source": [
    "print(len(A_bs)) \n",
    "print(len(B1_bs))\n",
    "print(len(B2_bs))"
   ]
  },
  {
   "cell_type": "markdown",
   "metadata": {},
   "source": [
    "# 2.B"
   ]
  },
  {
   "cell_type": "markdown",
   "metadata": {},
   "source": [
    "`Compute SE(B1_bs) and SE(B2_bs) directly from the m=100 samples. Do they match SE(B1) and SE(B2) from part 1, above?`"
   ]
  },
  {
   "cell_type": "code",
   "execution_count": 12,
   "metadata": {},
   "outputs": [],
   "source": [
    "k = bootstrap_x1[0].shape[1]\n",
    "n = bootstrap_x1[0].shape[0]\n",
    "\n",
    "SE_B1 = []\n",
    "SE_B2 = []\n",
    "\n",
    "for i in range(m):\n",
    "    E = bootstrap_y1[i] - all_bs[i].predict(bootstrap_x1[i])\n",
    "    SSE = sum(E**2)\n",
    "    SE = np.sqrt( SSE/(n-k-1) )\n",
    "    SE_B = SE / np.sqrt(sum((bootstrap_x1[i] - bootstrap_x1[i].mean())**2))\n",
    "    SE_B1.append(SE_B[0])\n",
    "    SE_B2.append(SE_B[1])"
   ]
  },
  {
   "cell_type": "code",
   "execution_count": 13,
   "metadata": {},
   "outputs": [
    {
     "name": "stdout",
     "output_type": "stream",
     "text": [
      "The Standard Error of the Bootstrapped B1 coefficient = 0.013164420315520254\n",
      "The Standard Error of the Bootstrapped B2 coefficient = 0.025373253761279094\n"
     ]
    }
   ],
   "source": [
    "print('The Standard Error of the Bootstrapped B1 coefficient = {}'.format(np.mean(SE_B1)))\n",
    "print('The Standard Error of the Bootstrapped B2 coefficient = {}'.format(np.mean(SE_B2)))"
   ]
  },
  {
   "cell_type": "markdown",
   "metadata": {},
   "source": [
    "# 2.C"
   ]
  },
  {
   "cell_type": "markdown",
   "metadata": {},
   "source": [
    "`For each model, A_bs, B1_bs, and B2_bs, calculate a prediction, y_hat_bs, at x1=5, x2=.5. From that set of predictions, compute SE(y_hat_bs). Does it match SE(y_hat) from part 1, above?`"
   ]
  },
  {
   "cell_type": "code",
   "execution_count": 14,
   "metadata": {},
   "outputs": [],
   "source": [
    "Yhat_bs = [all_bs[i].predict(np.array([[5, 0.5]])) for i in range(m)]\n",
    "\n",
    "SE_Yhat_bs = []\n",
    "\n",
    "for i in range(m):\n",
    "    RSS = sum((bootstrap_y1[i] - Yhat_bs[i])**2)\n",
    "    SE_Yhat_bs.append((np.sqrt(RSS/(n-k-1)))/np.sqrt(n))"
   ]
  },
  {
   "cell_type": "code",
   "execution_count": 15,
   "metadata": {},
   "outputs": [
    {
     "name": "stdout",
     "output_type": "stream",
     "text": [
      "The Standard Error of the Bootstrapped Y_hat calculation for B1=5, B2=0.5 = 0.8126102951312343\n"
     ]
    }
   ],
   "source": [
    "print('The Standard Error of the Bootstrapped Y_hat calculation for B1=5, B2=0.5 = {}'.format(np.mean(SE_Yhat_bs)))"
   ]
  },
  {
   "cell_type": "code",
   "execution_count": 16,
   "metadata": {},
   "outputs": [
    {
     "name": "stdout",
     "output_type": "stream",
     "text": [
      "The Values are very close to eachother by 0.023566970741508264\n"
     ]
    }
   ],
   "source": [
    "print('The Values are very close to eachother by {}'.format(SE_yhat - np.mean(SE_Yhat_bs)))"
   ]
  }
 ],
 "metadata": {
  "kernelspec": {
   "display_name": "Python 3",
   "language": "python",
   "name": "python3"
  },
  "language_info": {
   "codemirror_mode": {
    "name": "ipython",
    "version": 3
   },
   "file_extension": ".py",
   "mimetype": "text/x-python",
   "name": "python",
   "nbconvert_exporter": "python",
   "pygments_lexer": "ipython3",
   "version": "3.7.4"
  }
 },
 "nbformat": 4,
 "nbformat_minor": 2
}
