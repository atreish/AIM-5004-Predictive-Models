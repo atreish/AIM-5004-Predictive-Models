{
 "cells": [
  {
   "cell_type": "raw",
   "metadata": {},
   "source": [
    "Atreish Ramlakhan\n",
    "AIM 5004: Predictive Models\n",
    "Summer 2021\n",
    "MIDTERM PROJECT"
   ]
  },
  {
   "cell_type": "code",
   "execution_count": 1,
   "metadata": {},
   "outputs": [],
   "source": [
    "import pandas as pd\n",
    "import numpy as np\n",
    "from sklearn.linear_model import LinearRegression\n",
    "import scipy.stats\n",
    "import matplotlib.pyplot as plt"
   ]
  },
  {
   "cell_type": "markdown",
   "metadata": {},
   "source": [
    "## 1. Prepare the data"
   ]
  },
  {
   "cell_type": "code",
   "execution_count": 2,
   "metadata": {},
   "outputs": [],
   "source": [
    "theta = [0.03906292, 0.05119367, 0.06004468, 0.06790036, 0.19152079,\n",
    "       0.28298816, 0.294665  , 0.3578136 , 0.48352862, 0.53058676,\n",
    "       0.55175137, 0.57560289, 0.59751325, 0.6375209 , 0.65241862,\n",
    "       0.65633352, 0.78698546, 0.8640421 , 0.87729053, 0.94568319]\n",
    "aux1 = [ 0.53983961, -1.77528229,  1.31487654, -0.47344805, -1.0922299 ,\n",
    "       -0.25002744, -0.9822943 ,  1.03126909,  0.49133378, -0.4466466 ,\n",
    "       -0.80636008,  0.13126776, -1.21256024,  0.15999085, -0.75522304,\n",
    "        0.34989599,  0.97754176, -0.13858525,  0.10385631,  0.30059104]\n",
    "aux2 = [ 0.9682053 ,  0.86962384,  0.56778309,  0.46528234, -1.16537308,\n",
    "       -2.03599479, -1.15541329,  3.34515739,  0.12672721, -0.6941789 ,\n",
    "        0.55767443,  0.0991466 ,  0.63792617,  0.70311068, -0.91609315,\n",
    "       -0.78601423,  1.1191818 , -0.98339611,  0.24452002, -0.58140974]\n",
    "time_spent = [10.79768391, 10.87648065, 10.29274937, 10.78756647,  9.51844772,\n",
    "        9.18078781,  9.90063639, 12.84823357, 10.92743478,  9.88927608,\n",
    "       11.3373709 , 11.43996915, 11.88392171, -11.88135476, 11.73452467,\n",
    "       11.18844425, 12.19144316, 11.35294826, 12.2385441 , 11.98428985]"
   ]
  },
  {
   "cell_type": "code",
   "execution_count": 3,
   "metadata": {},
   "outputs": [
    {
     "data": {
      "text/html": [
       "<div>\n",
       "<style scoped>\n",
       "    .dataframe tbody tr th:only-of-type {\n",
       "        vertical-align: middle;\n",
       "    }\n",
       "\n",
       "    .dataframe tbody tr th {\n",
       "        vertical-align: top;\n",
       "    }\n",
       "\n",
       "    .dataframe thead th {\n",
       "        text-align: right;\n",
       "    }\n",
       "</style>\n",
       "<table border=\"1\" class=\"dataframe\">\n",
       "  <thead>\n",
       "    <tr style=\"text-align: right;\">\n",
       "      <th></th>\n",
       "      <th>theta</th>\n",
       "      <th>aux1</th>\n",
       "      <th>aux2</th>\n",
       "      <th>time_spent</th>\n",
       "    </tr>\n",
       "  </thead>\n",
       "  <tbody>\n",
       "    <tr>\n",
       "      <th>0</th>\n",
       "      <td>0.039063</td>\n",
       "      <td>0.539840</td>\n",
       "      <td>0.968205</td>\n",
       "      <td>10.797684</td>\n",
       "    </tr>\n",
       "    <tr>\n",
       "      <th>1</th>\n",
       "      <td>0.051194</td>\n",
       "      <td>-1.775282</td>\n",
       "      <td>0.869624</td>\n",
       "      <td>10.876481</td>\n",
       "    </tr>\n",
       "    <tr>\n",
       "      <th>2</th>\n",
       "      <td>0.060045</td>\n",
       "      <td>1.314877</td>\n",
       "      <td>0.567783</td>\n",
       "      <td>10.292749</td>\n",
       "    </tr>\n",
       "    <tr>\n",
       "      <th>3</th>\n",
       "      <td>0.067900</td>\n",
       "      <td>-0.473448</td>\n",
       "      <td>0.465282</td>\n",
       "      <td>10.787566</td>\n",
       "    </tr>\n",
       "    <tr>\n",
       "      <th>4</th>\n",
       "      <td>0.191521</td>\n",
       "      <td>-1.092230</td>\n",
       "      <td>-1.165373</td>\n",
       "      <td>9.518448</td>\n",
       "    </tr>\n",
       "  </tbody>\n",
       "</table>\n",
       "</div>"
      ],
      "text/plain": [
       "      theta      aux1      aux2  time_spent\n",
       "0  0.039063  0.539840  0.968205   10.797684\n",
       "1  0.051194 -1.775282  0.869624   10.876481\n",
       "2  0.060045  1.314877  0.567783   10.292749\n",
       "3  0.067900 -0.473448  0.465282   10.787566\n",
       "4  0.191521 -1.092230 -1.165373    9.518448"
      ]
     },
     "execution_count": 3,
     "metadata": {},
     "output_type": "execute_result"
    }
   ],
   "source": [
    "#Create a dataframe from the lists provided\n",
    "df = pd.DataFrame(list(zip(theta, aux1, aux2, time_spent)),columns =['theta','aux1','aux2','time_spent'])\n",
    "df.head() #preview"
   ]
  },
  {
   "cell_type": "code",
   "execution_count": 4,
   "metadata": {},
   "outputs": [
    {
     "data": {
      "text/html": [
       "<div>\n",
       "<style scoped>\n",
       "    .dataframe tbody tr th:only-of-type {\n",
       "        vertical-align: middle;\n",
       "    }\n",
       "\n",
       "    .dataframe tbody tr th {\n",
       "        vertical-align: top;\n",
       "    }\n",
       "\n",
       "    .dataframe thead th {\n",
       "        text-align: right;\n",
       "    }\n",
       "</style>\n",
       "<table border=\"1\" class=\"dataframe\">\n",
       "  <thead>\n",
       "    <tr style=\"text-align: right;\">\n",
       "      <th></th>\n",
       "      <th>theta</th>\n",
       "      <th>aux1</th>\n",
       "      <th>aux2</th>\n",
       "      <th>time_spent</th>\n",
       "    </tr>\n",
       "  </thead>\n",
       "  <tbody>\n",
       "    <tr>\n",
       "      <th>count</th>\n",
       "      <td>20.000000</td>\n",
       "      <td>20.000000</td>\n",
       "      <td>20.000000</td>\n",
       "      <td>20.000000</td>\n",
       "    </tr>\n",
       "    <tr>\n",
       "      <th>mean</th>\n",
       "      <td>0.475222</td>\n",
       "      <td>-0.126610</td>\n",
       "      <td>0.069323</td>\n",
       "      <td>9.924470</td>\n",
       "    </tr>\n",
       "    <tr>\n",
       "      <th>std</th>\n",
       "      <td>0.292726</td>\n",
       "      <td>0.818612</td>\n",
       "      <td>1.168883</td>\n",
       "      <td>5.221924</td>\n",
       "    </tr>\n",
       "    <tr>\n",
       "      <th>min</th>\n",
       "      <td>0.039063</td>\n",
       "      <td>-1.775282</td>\n",
       "      <td>-2.035995</td>\n",
       "      <td>-11.881355</td>\n",
       "    </tr>\n",
       "    <tr>\n",
       "      <th>25%</th>\n",
       "      <td>0.260121</td>\n",
       "      <td>-0.768007</td>\n",
       "      <td>-0.818534</td>\n",
       "      <td>10.194721</td>\n",
       "    </tr>\n",
       "    <tr>\n",
       "      <th>50%</th>\n",
       "      <td>0.541169</td>\n",
       "      <td>-0.017364</td>\n",
       "      <td>0.185624</td>\n",
       "      <td>11.057940</td>\n",
       "    </tr>\n",
       "    <tr>\n",
       "      <th>75%</th>\n",
       "      <td>0.653397</td>\n",
       "      <td>0.385255</td>\n",
       "      <td>0.654222</td>\n",
       "      <td>11.771874</td>\n",
       "    </tr>\n",
       "    <tr>\n",
       "      <th>max</th>\n",
       "      <td>0.945683</td>\n",
       "      <td>1.314877</td>\n",
       "      <td>3.345157</td>\n",
       "      <td>12.848234</td>\n",
       "    </tr>\n",
       "  </tbody>\n",
       "</table>\n",
       "</div>"
      ],
      "text/plain": [
       "           theta       aux1       aux2  time_spent\n",
       "count  20.000000  20.000000  20.000000   20.000000\n",
       "mean    0.475222  -0.126610   0.069323    9.924470\n",
       "std     0.292726   0.818612   1.168883    5.221924\n",
       "min     0.039063  -1.775282  -2.035995  -11.881355\n",
       "25%     0.260121  -0.768007  -0.818534   10.194721\n",
       "50%     0.541169  -0.017364   0.185624   11.057940\n",
       "75%     0.653397   0.385255   0.654222   11.771874\n",
       "max     0.945683   1.314877   3.345157   12.848234"
      ]
     },
     "execution_count": 4,
     "metadata": {},
     "output_type": "execute_result"
    }
   ],
   "source": [
    "#Since this is all numeric data we can find summary statistics with describe function and identify anomolies\n",
    "df.describe()"
   ]
  },
  {
   "cell_type": "code",
   "execution_count": 5,
   "metadata": {},
   "outputs": [
    {
     "data": {
      "text/plain": [
       "(array([13]),)"
      ]
     },
     "execution_count": 5,
     "metadata": {},
     "output_type": "execute_result"
    }
   ],
   "source": [
    "#Notice that there exists a negative value for time spent so we must remove all instances of negative values\n",
    "np.where(df.time_spent<0)"
   ]
  },
  {
   "cell_type": "code",
   "execution_count": 6,
   "metadata": {},
   "outputs": [],
   "source": [
    "#Remove 14th row, maintain the indexing \n",
    "df.drop(13, axis=0, inplace=True)\n",
    "df.reset_index(drop=True, inplace=True)"
   ]
  },
  {
   "cell_type": "code",
   "execution_count": 7,
   "metadata": {},
   "outputs": [
    {
     "data": {
      "text/plain": [
       "(array([], dtype=int64),)"
      ]
     },
     "execution_count": 7,
     "metadata": {},
     "output_type": "execute_result"
    }
   ],
   "source": [
    "#verify no more time_spent < 0 \n",
    "np.where(df.time_spent<0)"
   ]
  },
  {
   "cell_type": "code",
   "execution_count": 8,
   "metadata": {},
   "outputs": [
    {
     "data": {
      "text/html": [
       "<div>\n",
       "<style scoped>\n",
       "    .dataframe tbody tr th:only-of-type {\n",
       "        vertical-align: middle;\n",
       "    }\n",
       "\n",
       "    .dataframe tbody tr th {\n",
       "        vertical-align: top;\n",
       "    }\n",
       "\n",
       "    .dataframe thead th {\n",
       "        text-align: right;\n",
       "    }\n",
       "</style>\n",
       "<table border=\"1\" class=\"dataframe\">\n",
       "  <thead>\n",
       "    <tr style=\"text-align: right;\">\n",
       "      <th></th>\n",
       "      <th>theta</th>\n",
       "      <th>aux1</th>\n",
       "      <th>aux2</th>\n",
       "      <th>time_spent</th>\n",
       "    </tr>\n",
       "  </thead>\n",
       "  <tbody>\n",
       "    <tr>\n",
       "      <th>0</th>\n",
       "      <td>0.039063</td>\n",
       "      <td>0.539840</td>\n",
       "      <td>0.968205</td>\n",
       "      <td>10.797684</td>\n",
       "    </tr>\n",
       "    <tr>\n",
       "      <th>1</th>\n",
       "      <td>0.051194</td>\n",
       "      <td>-1.775282</td>\n",
       "      <td>0.869624</td>\n",
       "      <td>10.876481</td>\n",
       "    </tr>\n",
       "    <tr>\n",
       "      <th>2</th>\n",
       "      <td>0.060045</td>\n",
       "      <td>1.314877</td>\n",
       "      <td>0.567783</td>\n",
       "      <td>10.292749</td>\n",
       "    </tr>\n",
       "    <tr>\n",
       "      <th>3</th>\n",
       "      <td>0.067900</td>\n",
       "      <td>-0.473448</td>\n",
       "      <td>0.465282</td>\n",
       "      <td>10.787566</td>\n",
       "    </tr>\n",
       "    <tr>\n",
       "      <th>4</th>\n",
       "      <td>0.191521</td>\n",
       "      <td>-1.092230</td>\n",
       "      <td>-1.165373</td>\n",
       "      <td>9.518448</td>\n",
       "    </tr>\n",
       "    <tr>\n",
       "      <th>5</th>\n",
       "      <td>0.282988</td>\n",
       "      <td>-0.250027</td>\n",
       "      <td>-2.035995</td>\n",
       "      <td>9.180788</td>\n",
       "    </tr>\n",
       "    <tr>\n",
       "      <th>6</th>\n",
       "      <td>0.294665</td>\n",
       "      <td>-0.982294</td>\n",
       "      <td>-1.155413</td>\n",
       "      <td>9.900636</td>\n",
       "    </tr>\n",
       "    <tr>\n",
       "      <th>7</th>\n",
       "      <td>0.357814</td>\n",
       "      <td>1.031269</td>\n",
       "      <td>3.345157</td>\n",
       "      <td>12.848234</td>\n",
       "    </tr>\n",
       "    <tr>\n",
       "      <th>8</th>\n",
       "      <td>0.483529</td>\n",
       "      <td>0.491334</td>\n",
       "      <td>0.126727</td>\n",
       "      <td>10.927435</td>\n",
       "    </tr>\n",
       "    <tr>\n",
       "      <th>9</th>\n",
       "      <td>0.530587</td>\n",
       "      <td>-0.446647</td>\n",
       "      <td>-0.694179</td>\n",
       "      <td>9.889276</td>\n",
       "    </tr>\n",
       "    <tr>\n",
       "      <th>10</th>\n",
       "      <td>0.551751</td>\n",
       "      <td>-0.806360</td>\n",
       "      <td>0.557674</td>\n",
       "      <td>11.337371</td>\n",
       "    </tr>\n",
       "    <tr>\n",
       "      <th>11</th>\n",
       "      <td>0.575603</td>\n",
       "      <td>0.131268</td>\n",
       "      <td>0.099147</td>\n",
       "      <td>11.439969</td>\n",
       "    </tr>\n",
       "    <tr>\n",
       "      <th>12</th>\n",
       "      <td>0.597513</td>\n",
       "      <td>-1.212560</td>\n",
       "      <td>0.637926</td>\n",
       "      <td>11.883922</td>\n",
       "    </tr>\n",
       "    <tr>\n",
       "      <th>13</th>\n",
       "      <td>0.652419</td>\n",
       "      <td>-0.755223</td>\n",
       "      <td>-0.916093</td>\n",
       "      <td>11.734525</td>\n",
       "    </tr>\n",
       "    <tr>\n",
       "      <th>14</th>\n",
       "      <td>0.656334</td>\n",
       "      <td>0.349896</td>\n",
       "      <td>-0.786014</td>\n",
       "      <td>11.188444</td>\n",
       "    </tr>\n",
       "    <tr>\n",
       "      <th>15</th>\n",
       "      <td>0.786985</td>\n",
       "      <td>0.977542</td>\n",
       "      <td>1.119182</td>\n",
       "      <td>12.191443</td>\n",
       "    </tr>\n",
       "    <tr>\n",
       "      <th>16</th>\n",
       "      <td>0.864042</td>\n",
       "      <td>-0.138585</td>\n",
       "      <td>-0.983396</td>\n",
       "      <td>11.352948</td>\n",
       "    </tr>\n",
       "    <tr>\n",
       "      <th>17</th>\n",
       "      <td>0.877291</td>\n",
       "      <td>0.103856</td>\n",
       "      <td>0.244520</td>\n",
       "      <td>12.238544</td>\n",
       "    </tr>\n",
       "    <tr>\n",
       "      <th>18</th>\n",
       "      <td>0.945683</td>\n",
       "      <td>0.300591</td>\n",
       "      <td>-0.581410</td>\n",
       "      <td>11.984290</td>\n",
       "    </tr>\n",
       "  </tbody>\n",
       "</table>\n",
       "</div>"
      ],
      "text/plain": [
       "       theta      aux1      aux2  time_spent\n",
       "0   0.039063  0.539840  0.968205   10.797684\n",
       "1   0.051194 -1.775282  0.869624   10.876481\n",
       "2   0.060045  1.314877  0.567783   10.292749\n",
       "3   0.067900 -0.473448  0.465282   10.787566\n",
       "4   0.191521 -1.092230 -1.165373    9.518448\n",
       "5   0.282988 -0.250027 -2.035995    9.180788\n",
       "6   0.294665 -0.982294 -1.155413    9.900636\n",
       "7   0.357814  1.031269  3.345157   12.848234\n",
       "8   0.483529  0.491334  0.126727   10.927435\n",
       "9   0.530587 -0.446647 -0.694179    9.889276\n",
       "10  0.551751 -0.806360  0.557674   11.337371\n",
       "11  0.575603  0.131268  0.099147   11.439969\n",
       "12  0.597513 -1.212560  0.637926   11.883922\n",
       "13  0.652419 -0.755223 -0.916093   11.734525\n",
       "14  0.656334  0.349896 -0.786014   11.188444\n",
       "15  0.786985  0.977542  1.119182   12.191443\n",
       "16  0.864042 -0.138585 -0.983396   11.352948\n",
       "17  0.877291  0.103856  0.244520   12.238544\n",
       "18  0.945683  0.300591 -0.581410   11.984290"
      ]
     },
     "execution_count": 8,
     "metadata": {},
     "output_type": "execute_result"
    }
   ],
   "source": [
    "#View Dataframe we will actually use\n",
    "df"
   ]
  },
  {
   "cell_type": "markdown",
   "metadata": {},
   "source": [
    "## 2. Build a model  "
   ]
  },
  {
   "cell_type": "code",
   "execution_count": 9,
   "metadata": {},
   "outputs": [],
   "source": [
    "#This function outputs statistics based on alreay given formula\n",
    "def regress_calc(input_cols):\n",
    "    X = df[input_cols] #all columns from the dataframe other than time_spent\n",
    "    y = df.iloc[:,-1] #isolate time_spent column\n",
    "    n = len(X)\n",
    "    lr = LinearRegression().fit(X, y) #run regression\n",
    "    y_hat = lr.predict(X) #model predictions for X columns based on our data\n",
    "    y_mean = np.mean(y) \n",
    "    intercept = lr.intercept_ #where does the y intercept occur? i.e. the time-spent column?\n",
    "    B = lr.coef_ #coefficients for the model\n",
    "    TSS = sum((y - y_mean)**2)\n",
    "    RSS = sum((y - y_hat)**2)\n",
    "    RegSS = TSS - RSS\n",
    "    R2 = RegSS / TSS\n",
    "    t_scores = B / (np.std(X)/np.sqrt(n)) \n",
    "    t_statistics = list(t_scores)\n",
    "    p_values = (scipy.stats.t.sf(np.abs(t_scores), df=n))*2\n",
    "    return intercept, B, R2, RSS, RegSS, TSS, input_cols, p_values, t_statistics\n",
    "\n",
    "#This function creates a list of T/F for each p-value based on whether they are significant\n",
    "def pvalue_sig(p_values):\n",
    "    pvalue_sig = []\n",
    "    alpha = 0.05\n",
    "    for i in p_values:\n",
    "        if i < alpha:\n",
    "            pvalue_sig.append(True)\n",
    "        else:\n",
    "            pvalue_sig.append(False)\n",
    "    return pvalue_sig\n",
    "\n",
    "#This prints out our summary of each of the calculations requested\n",
    "def regress_report(input_cols):\n",
    "    intercept, B, R2, RSS, RegSS, TSS, input_cols, p_values, t_statistics = regress_calc(input_cols)\n",
    "    pvalue_sign = pvalue_sig(p_values)\n",
    "    print('\\nR^2 = {}'.format(R2))\n",
    "    print('Input columns: {}'.format(input_cols))\n",
    "    print('Significance of P-Values = {}'.format(pvalue_sign))    \n",
    "    print('Intercept = {}'.format(intercept))\n",
    "    print('B = {}'.format(B))\n",
    "    print('RSS = {}'.format(RSS))\n",
    "    print('RegSS = {}'.format(RegSS))\n",
    "    print('TSS = {}'.format(TSS))\n",
    "    print('p_values = {}'.format(p_values))\n",
    "    print('t_statistic = {}'.format(t_statistics))"
   ]
  },
  {
   "cell_type": "code",
   "execution_count": 10,
   "metadata": {
    "scrolled": false
   },
   "outputs": [
    {
     "name": "stdout",
     "output_type": "stream",
     "text": [
      "\n",
      "R^2 = 0.8881796128595719\n",
      "Input columns: ['theta', 'aux1', 'aux2']\n",
      "Significance of P-Values = [True, False, True]\n",
      "Intercept = 9.920094669515057\n",
      "B = [ 2.3876759  -0.10000621  0.65613708]\n",
      "RSS = 1.9659559596739313\n",
      "RegSS = 15.615417258118747\n",
      "TSS = 17.581373217792677\n",
      "p_values = [6.45018856e-19 5.99313956e-01 2.33039270e-02]\n",
      "t_statistic = [35.8609220625855, -0.5343249395736319, 2.4669850599262135]\n",
      "\n",
      "R^2 = 0.41321369485899556\n",
      "Input columns: ['aux1', 'aux2']\n",
      "Significance of P-Values = [False, False]\n",
      "Intercept = 11.070569154567039\n",
      "B = [0.11530773 0.49808471]\n",
      "RSS = 10.316509029773577\n",
      "RegSS = 7.2648641880191\n",
      "TSS = 17.581373217792677\n",
      "p_values = [0.5451528  0.07657676]\n",
      "t_statistic = [0.6160796737330165, 1.8727299331775378]\n",
      "\n",
      "R^2 = 0.3813885891979512\n",
      "Input columns: ['theta', 'aux1']\n",
      "Significance of P-Values = [True, False]\n",
      "Intercept = 10.283645737202516\n",
      "B = [1.77398701 0.27796262]\n",
      "RSS = 10.876038090096085\n",
      "RegSS = 6.705335127696593\n",
      "TSS = 17.581373217792677\n",
      "p_values = [1.64016332e-16 1.53912205e-01]\n",
      "t_statistic = [26.643821272209088, 1.4851313560636872]\n",
      "\n",
      "R^2 = 0.8823200761284402\n",
      "Input columns: ['theta', 'aux2']\n",
      "Significance of P-Values = [True, True]\n",
      "Intercept = 9.964892697273081\n",
      "B = [2.32425661 0.62746508]\n",
      "RSS = 2.0689746618273226\n",
      "RegSS = 15.512398555965355\n",
      "TSS = 17.581373217792677\n",
      "p_values = [1.06793214e-18 2.91728819e-02]\n",
      "t_statistic = [34.90841664351732, 2.3591822949788135]\n",
      "\n",
      "R^2 = 0.327166480015125\n",
      "Input columns: ['theta']\n",
      "Significance of P-Values = [True]\n",
      "Intercept = 10.18739048685853\n",
      "B = [1.89584694]\n",
      "RSS = 11.829337228295255\n",
      "RegSS = 5.752035989497422\n",
      "TSS = 17.581373217792677\n",
      "p_values = [4.78023618e-17]\n",
      "t_statistic = [28.474056802087723]\n",
      "\n",
      "R^2 = 0.10189665382786586\n",
      "Input columns: ['aux1']\n",
      "Significance of P-Values = [False]\n",
      "Intercept = 11.125476234278956\n",
      "B = [0.37638407]\n",
      "RSS = 15.789890117200745\n",
      "RegSS = 1.7914831005919325\n",
      "TSS = 17.581373217792677\n",
      "p_values = [0.05873352]\n",
      "t_statistic = [2.0109890246649056]\n",
      "\n",
      "R^2 = 0.4049514090035227\n",
      "Input columns: ['aux2']\n",
      "Significance of P-Values = [False]\n",
      "Intercept = 11.053154274733277\n",
      "B = [0.52801492]\n",
      "RSS = 10.461771361030735\n",
      "RegSS = 7.119601856761943\n",
      "TSS = 17.581373217792677\n",
      "p_values = [0.06174165]\n",
      "t_statistic = [1.985263369297027]\n"
     ]
    }
   ],
   "source": [
    "reg_combos = [['theta','aux1','aux2'],['aux1','aux2'],['theta','aux1'],\n",
    "              ['theta','aux2'],['theta'],['aux1'],['aux2']]\n",
    "\n",
    "for i in reg_combos:\n",
    "        regress_report(i)"
   ]
  },
  {
   "cell_type": "markdown",
   "metadata": {},
   "source": [
    "`Notice that R^s for all 3 columns and {theta,aux2} are almost the same at ~.88. These are the highest in the combinations of imput columns. However, notice that {aux1} is insignificant throughout the experiment and in the all inclusive set, it is insignificant. Thus, our final model should be a regression to predict time_spent based on the columns: {theta,aux2} for optimal accuracy` "
   ]
  },
  {
   "cell_type": "markdown",
   "metadata": {},
   "source": [
    "## 3. Propose a setting for *theta*"
   ]
  },
  {
   "cell_type": "code",
   "execution_count": 11,
   "metadata": {},
   "outputs": [],
   "source": [
    "X1 = df[['theta']] #isolate the theta column\n",
    "y = df.iloc[:,-1] #isolate the time_spent column\n",
    "reg1 = LinearRegression().fit(X1, y) #run a regression\n",
    "y_hat = reg1.predict(X1) #model predictions for Theta based on our data"
   ]
  },
  {
   "cell_type": "code",
   "execution_count": 12,
   "metadata": {},
   "outputs": [
    {
     "data": {
      "text/plain": [
       "[<matplotlib.lines.Line2D at 0x7fe598a2ce90>]"
      ]
     },
     "execution_count": 12,
     "metadata": {},
     "output_type": "execute_result"
    },
    {
     "data": {
      "image/png": "[encoded data removed]",
      "text/plain": [
       "<Figure size 864x504 with 1 Axes>"
      ]
     },
     "metadata": {
      "needs_background": "light"
     },
     "output_type": "display_data"
    }
   ],
   "source": [
    "plt.figure(figsize=(12,7))\n",
    "plt.xlabel('Values of Theta')\n",
    "plt.ylabel('Time Spent in Hours')\n",
    "plt.scatter(X1, y, c='r',marker='x') #plot the actual data in red x from our dataframe\n",
    "plt.plot(X1, y_hat, c='b', marker='o') #plot our predicted data with blue dots and regression line"
   ]
  },
  {
   "cell_type": "code",
   "execution_count": 13,
   "metadata": {},
   "outputs": [
    {
     "data": {
      "text/plain": [
       "[<matplotlib.lines.Line2D at 0x7fe599538e50>]"
      ]
     },
     "execution_count": 13,
     "metadata": {},
     "output_type": "execute_result"
    },
    {
     "data": {
      "image/png": "[encoded data removed]",
      "text/plain": [
       "<Figure size 864x504 with 1 Axes>"
      ]
     },
     "metadata": {
      "needs_background": "light"
     },
     "output_type": "display_data"
    }
   ],
   "source": [
    "plt.figure(figsize=(12,7))\n",
    "plt.xlabel('Values of Theta')\n",
    "plt.ylabel('Time Spent in Hours')\n",
    "plt.axvline(x=0.78, color='k', linestyle='dashed')\n",
    "plt.axvline(x=0.95, color='k', linestyle='dashed')\n",
    "plt.axvline(x=0.595, color='k', linestyle='dashed')\n",
    "plt.axhline(y=11.5, color='g')\n",
    "plt.scatter(X1, y, c='r',marker='x') \n",
    "plt.plot(X1, y_hat, c='b', marker='o')"
   ]
  },
  {
   "cell_type": "markdown",
   "metadata": {},
   "source": [
    "`If we look closely at the graph, with the exception of the outlier around theta~3.8, most of the Values of theta before 0.6 are below the predicted graph. So, we shoudl really focus on the fact that theta should be over 0.6 so ensure higher values of the Time_spent variable. I would propose that since Theta is significant according to the p-values, we have theta between 0.8 and 0.9 so that we capture highest valies of time_spent. With teh exception of theta~3.8, 3/4 of the highest time_spent values are within theta= [0.78 and 0.95]. Furthermore, we can look at the dashed line above and observe that the time_spent values are also significantly more likely to be higher when theta is above 0.595. We have 5/7 values above 11.5 hrs in time_spent over theta=0.6. Thus, we are safe to say that with Theta>0.6 we will have higher time_spent and a bit more secure about that statement when Theta>0.78`"
   ]
  },
  {
   "cell_type": "markdown",
   "metadata": {},
   "source": [
    "## 4. Experiment or observation?"
   ]
  },
  {
   "cell_type": "code",
   "execution_count": 14,
   "metadata": {},
   "outputs": [
    {
     "data": {
      "text/plain": [
       "[<matplotlib.lines.Line2D at 0x7fe599789c50>]"
      ]
     },
     "execution_count": 14,
     "metadata": {},
     "output_type": "execute_result"
    },
    {
     "data": {
      "image/png": "[encoded data removed]",
      "text/plain": [
       "<Figure size 504x288 with 1 Axes>"
      ]
     },
     "metadata": {
      "needs_background": "light"
     },
     "output_type": "display_data"
    },
    {
     "data": {
      "image/png": "[encoded data removed]",
      "text/plain": [
       "<Figure size 504x288 with 1 Axes>"
      ]
     },
     "metadata": {
      "needs_background": "light"
     },
     "output_type": "display_data"
    },
    {
     "data": {
      "image/png": "[encoded data removed]",
      "text/plain": [
       "<Figure size 504x288 with 1 Axes>"
      ]
     },
     "metadata": {
      "needs_background": "light"
     },
     "output_type": "display_data"
    }
   ],
   "source": [
    "plt.figure(figsize=(7,4))\n",
    "plt.xlabel('Values of Theta')\n",
    "plt.ylabel('Time Spent in Hours')\n",
    "plt.scatter(X1, y, c='r',marker='x') \n",
    "plt.plot(X1, y_hat, c='b', marker='o')\n",
    "\n",
    "X2 = df[['aux1']] #isolate the aux1 column\n",
    "reg2 = LinearRegression().fit(X2, y) #run a regression\n",
    "y_hat2 = reg2.predict(X2)\n",
    "plt.figure(figsize=(7,4))\n",
    "plt.xlabel('Aux1')\n",
    "plt.ylabel('Time Spent in Hours')\n",
    "plt.scatter(X2, y, c='r',marker='x') \n",
    "plt.plot(X2, y_hat2, c='b', marker='o')\n",
    "\n",
    "X3 = df[['aux2']] #isolate the aux2 column\n",
    "reg3 = LinearRegression().fit(X3, y) #run a regression\n",
    "y_hat3 = reg3.predict(X3)\n",
    "plt.figure(figsize=(7,4))\n",
    "plt.xlabel('Aux2')\n",
    "plt.ylabel('Time Spent in Hours')\n",
    "plt.scatter(X3, y, c='r',marker='x') \n",
    "plt.plot(X3, y_hat3, c='b', marker='o')"
   ]
  },
  {
   "cell_type": "markdown",
   "metadata": {},
   "source": [
    "`First, now that we see a somewhat positive linear relationship between Theta and Time_spent, we will plot the regression  between the {aux1, aux2} columns and time_spent so we can analyze further. This is an observational data set. To qualify as an experimental dataset we must propose new data and use experimental methods to determine if results were replicable. We did not do that instead we simply had observations that we analyzed.\n",
    "\n",
    "We see that Theta always is significant based on p-values and that there is a positive linear relationship. Looking at the graphs (directly) above, we see that Theta and Aux2 has a higher positive relationship than aux1 and that is reflected by the R^2 for the combinations with {theta, aux2}.`  "
   ]
  }
 ],
 "metadata": {
  "kernelspec": {
   "display_name": "Python 3",
   "language": "python",
   "name": "python3"
  },
  "language_info": {
   "codemirror_mode": {
    "name": "ipython",
    "version": 3
   },
   "file_extension": ".py",
   "mimetype": "text/x-python",
   "name": "python",
   "nbconvert_exporter": "python",
   "pygments_lexer": "ipython3",
   "version": "3.7.4"
  }
 },
 "nbformat": 4,
 "nbformat_minor": 2
}
